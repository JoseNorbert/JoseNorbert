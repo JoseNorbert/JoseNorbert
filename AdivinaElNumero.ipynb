{
  "nbformat": 4,
  "nbformat_minor": 0,
  "metadata": {
    "colab": {
      "provenance": [],
      "authorship_tag": "ABX9TyOL7opMNN3yb1ldCI3T9eIh",
      "include_colab_link": true
    },
    "kernelspec": {
      "name": "python3",
      "display_name": "Python 3"
    },
    "language_info": {
      "name": "python"
    }
  },
  "cells": [
    {
      "cell_type": "markdown",
      "metadata": {
        "id": "view-in-github",
        "colab_type": "text"
      },
      "source": [
        "<a href=\"https://colab.research.google.com/github/JoseNorbert/JoseNorbert/blob/main/AdivinaElNumero.ipynb\" target=\"_parent\"><img src=\"https://colab.research.google.com/assets/colab-badge.svg\" alt=\"Open In Colab\"/></a>"
      ]
    },
    {
      "cell_type": "code",
      "execution_count": 6,
      "metadata": {
        "colab": {
          "base_uri": "https://localhost:8080/"
        },
        "id": "TFBgN23EiV0z",
        "outputId": "f8a72c4a-406b-49cf-d0fe-5a562823de89"
      },
      "outputs": [
        {
          "output_type": "stream",
          "name": "stdout",
          "text": [
            "Adivina el numero, se encuentra entre 1 y 10\n",
            "2\n",
            "escoge un numero mas alto\n",
            "Adivina el numero, se encuentra entre 1 y 10\n",
            "3\n",
            "escoge un numero mas alto\n",
            "Adivina el numero, se encuentra entre 1 y 10\n",
            "4\n",
            "escoge un numero mas alto\n",
            "Adivina el numero, se encuentra entre 1 y 10\n",
            "5\n",
            "escoge un numero mas alto\n",
            "Adivina el numero, se encuentra entre 1 y 10\n",
            "8\n",
            "escoge un numero mas bajo\n",
            "Adivina el numero, se encuentra entre 1 y 10\n",
            "7\n",
            "escoge un numero mas bajo\n",
            "Adivina el numero, se encuentra entre 1 y 10\n",
            "6\n",
            "Adivinaste\n"
          ]
        }
      ],
      "source": [
        "import random\n",
        "\n",
        "# pedimos se ingresen dos numeros como intervalo\n",
        "\n",
        "numero1 = int(input(\"Ingresa el numero mas bajo del intervalo\\n\"))\n",
        "numero12 = int(input(\"Ingresa el numero mas alto del intervalo\\n\"))\n",
        "\n",
        "#variable para numero a adivinar \n",
        "if numero1 < numero12:\n",
        "    num = random.randrange(numero1,numero12)\n",
        "else:\n",
        "    print(\"El intervalo ira de {} a {}\".format(numero12,numero1 ))\n",
        "    num = random.randrange(numero12,numero1)\n",
        "\n",
        "#variable para numero ingresado\n",
        "\n",
        "ingresado = int(input(\"Adivina el numero, se encuentra en el intervalo de los numeros que ingresaste\\n\"))\n",
        "\n",
        "while ingresado != num:\n",
        "    if ingresado < num:\n",
        "        print(\"escoge un numero mas alto\")\n",
        "        ingresado = int(input(\"Ingresa otro numero\\n\"))\n",
        "    elif ingresado > num:\n",
        "        print(\"escoge un numero mas bajo\")\n",
        "        ingresado = int(input(\"Ingresa otro numero\\n\"))\n",
        "    else:\n",
        "        break\n",
        "print(\"Adivinaste\")"
      ]
    }
  ]
}
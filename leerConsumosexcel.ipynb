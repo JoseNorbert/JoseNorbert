{
  "nbformat": 4,
  "nbformat_minor": 0,
  "metadata": {
    "colab": {
      "provenance": [],
      "authorship_tag": "ABX9TyNp3PkAT2VjJ2cPED7JryS2",
      "include_colab_link": true
    },
    "kernelspec": {
      "name": "python3",
      "display_name": "Python 3"
    },
    "language_info": {
      "name": "python"
    }
  },
  "cells": [
    {
      "cell_type": "markdown",
      "metadata": {
        "id": "view-in-github",
        "colab_type": "text"
      },
      "source": [
        "<a href=\"https://colab.research.google.com/github/JoseNorbert/JoseNorbert/blob/main/leerConsumosexcel.ipynb\" target=\"_parent\"><img src=\"https://colab.research.google.com/assets/colab-badge.svg\" alt=\"Open In Colab\"/></a>"
      ]
    },
    {
      "cell_type": "code",
      "source": [
        "from google.colab import drive\n",
        "drive.mount('/content/drive')"
      ],
      "metadata": {
        "colab": {
          "base_uri": "https://localhost:8080/"
        },
        "id": "bm31rtPsLqrF",
        "outputId": "8e928de4-ff81-4431-db76-58fccf2f296e"
      },
      "execution_count": 2,
      "outputs": [
        {
          "output_type": "stream",
          "name": "stdout",
          "text": [
            "Mounted at /content/drive\n"
          ]
        }
      ]
    },
    {
      "cell_type": "code",
      "source": [
        "import openpyxl\n",
        "\n",
        "# Cargar el libro de Excel\n",
        "workbook = openpyxl.load_workbook('/content/drive/MyDrive/2024/CONSUMO DE ACEITE Y EXPLICACIONES (TECOLOTES.xlsx')"
      ],
      "metadata": {
        "id": "kYWtd7GoMWf8"
      },
      "execution_count": 3,
      "outputs": []
    },
    {
      "cell_type": "code",
      "execution_count": 18,
      "metadata": {
        "colab": {
          "base_uri": "https://localhost:8080/"
        },
        "id": "DR5D4a7VLawO",
        "outputId": "51a35fc4-ee48-498b-bafe-a005724a8310"
      },
      "outputs": [
        {
          "output_type": "stream",
          "name": "stdout",
          "text": [
            "Archivo Excel generado exitosamente.\n"
          ]
        }
      ],
      "source": [
        "import pandas as pd\n",
        "\n",
        "\n",
        "# Seleccionar la hoja de trabajo\n",
        "sheet = workbook['AGOSTO']\n",
        "\n",
        "# Celda inicial (ajusta a tus necesidades)\n",
        "fila_fecha = 5 #tomamos la fila 5 que enumera los dias del mes\n",
        "fila_inicial = 6  # Suponiendo que los datos empiezan en la fila 2\n",
        "columna_inicial = 3  # Suponiendo que los datos empiezan en la columna A\n",
        "num_filas = 14  # Número de filas a recorrer\n",
        "num_columnas = 31  # Número de columnas a recorrer\n",
        "\n",
        "# Crear una lista para almacenar los datos\n",
        "data = []\n",
        "\n",
        "# Recorrer las celdas y extraer los datos\n",
        "for i in range(num_filas):\n",
        "    for j in range(num_columnas):\n",
        "        fila = fila_inicial + i\n",
        "        columna = columna_inicial + j\n",
        "        celda_fecha = sheet.cell(row=fila_fecha, column=columna)\n",
        "        celda = sheet.cell(row=fila, column=columna)\n",
        "        if celda.value is not None and celda.value != 0:  # Verificar si la celda tiene un valor diferente de cero\n",
        "            equipo = sheet.cell(row=fila, column=2).value  # Asumiendo que el nombre del equipo está en la columna A\n",
        "            consumo = celda.value\n",
        "            dia = celda_fecha.value  # Obtener el día de la fecha\n",
        "            fecha =  str(dia) +'/08/2024'  # Ajustar la fecha según sea necesario\n",
        "            data.append([equipo, consumo, fecha])\n",
        "\n",
        "# Crear un DataFrame de Pandas\n",
        "df = pd.DataFrame(data, columns=['Equipo', 'Consumo', 'Fecha'])\n",
        "\n",
        "# Guardar el DataFrame en un nuevo archivo Excel\n",
        "df.to_excel('/content/drive/MyDrive/2024/08.ConsumoAgosto.xlsx', index=False)\n",
        "\n",
        "print(\"Archivo Excel generado exitosamente.\")"
      ]
    }
  ]
}